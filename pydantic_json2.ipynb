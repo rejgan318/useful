{
 "cells": [
  {
   "metadata": {},
   "cell_type": "markdown",
   "source": "",
   "id": "3971d73b7d6f0607"
  },
  {
   "metadata": {
    "ExecuteTime": {
     "end_time": "2024-06-24T16:09:19.586092Z",
     "start_time": "2024-06-24T16:09:19.525848Z"
    }
   },
   "cell_type": "code",
   "source": [
    "from pydantic import BaseModel\n",
    "import json"
   ],
   "id": "2a7310a932103f4c",
   "outputs": [],
   "execution_count": 1
  },
  {
   "metadata": {
    "ExecuteTime": {
     "end_time": "2024-06-24T16:13:35.618811Z",
     "start_time": "2024-06-24T16:13:35.612464Z"
    }
   },
   "cell_type": "code",
   "source": [
    "class Small(BaseModel):\n",
    "    name: str\n",
    "\n",
    "class Person(Small):\n",
    "    # name: str\n",
    "    age: int\n",
    "    \n",
    "class People(BaseModel):\n",
    "    pl: dict[int, Person]"
   ],
   "id": "8a638a32d457149f",
   "outputs": [],
   "execution_count": 10
  },
  {
   "metadata": {
    "ExecuteTime": {
     "end_time": "2024-06-24T16:13:37.208161Z",
     "start_time": "2024-06-24T16:13:37.202458Z"
    }
   },
   "cell_type": "code",
   "source": [
    "vasya = Person(name='vasya', age=18)\n",
    "petya = Person(name='petya', age=16)\n",
    "pac = {1: vasya, 2: petya}\n",
    "pac"
   ],
   "id": "6301c56364060db8",
   "outputs": [
    {
     "data": {
      "text/plain": [
       "{1: Person(name='vasya', age=18), 2: Person(name='petya', age=16)}"
      ]
     },
     "execution_count": 11,
     "metadata": {},
     "output_type": "execute_result"
    }
   ],
   "execution_count": 11
  },
  {
   "metadata": {
    "ExecuteTime": {
     "end_time": "2024-06-24T16:13:48.122865Z",
     "start_time": "2024-06-24T16:13:48.118909Z"
    }
   },
   "cell_type": "code",
   "source": [
    "with open(\"pac1.json\", \"w\", encoding='utf-8') as f:\n",
    "    json.dump({k: p.dict() for k, p in pac.items()}, f, indent=4)"
   ],
   "id": "5954f591945a8c17",
   "outputs": [],
   "execution_count": 12
  },
  {
   "metadata": {
    "ExecuteTime": {
     "end_time": "2024-06-24T16:13:48.642221Z",
     "start_time": "2024-06-24T16:13:48.637058Z"
    }
   },
   "cell_type": "code",
   "source": [
    "with open(\"pac1.json\", \"r\", encoding='utf-8') as f:\n",
    "    pac = json.load(f)\n",
    "    pac = {int(k): Person(**p) for k, p in pac.items()}\n",
    "pac"
   ],
   "id": "7e354865cde429ea",
   "outputs": [
    {
     "data": {
      "text/plain": [
       "{1: Person(name='vasya', age=18), 2: Person(name='petya', age=16)}"
      ]
     },
     "execution_count": 13,
     "metadata": {},
     "output_type": "execute_result"
    }
   ],
   "execution_count": 13
  },
  {
   "metadata": {
    "ExecuteTime": {
     "end_time": "2024-06-24T16:15:29.436537Z",
     "start_time": "2024-06-24T16:15:29.430022Z"
    }
   },
   "cell_type": "code",
   "source": [
    "people = People(pl=pac)\n",
    "with open(\"pac2.json\", \"w\", encoding='utf-8') as f:\n",
    "    # json.dump({k: p.dict() for k, p in d.items()}, f)\n",
    "    f.write(people.model_dump_json(indent=2))"
   ],
   "id": "fe4307c7a2bc63b2",
   "outputs": [
    {
     "data": {
      "text/plain": [
       "Small(name='vasya')"
      ]
     },
     "execution_count": 15,
     "metadata": {},
     "output_type": "execute_result"
    }
   ],
   "execution_count": 15
  },
  {
   "metadata": {
    "ExecuteTime": {
     "end_time": "2024-06-24T16:09:23.227638Z",
     "start_time": "2024-06-24T16:09:23.221102Z"
    }
   },
   "cell_type": "code",
   "source": [
    "with open(\"pac2.json\", \"r\", encoding='utf-8') as f:\n",
    "    people = People.model_validate_json(f.read())\n",
    "people"
   ],
   "id": "9528dd3b6d5522d5",
   "outputs": [
    {
     "data": {
      "text/plain": [
       "People(pl={1: Person(name='vasya', age=18), 2: Person(name='petya', age=16)})"
      ]
     },
     "execution_count": 7,
     "metadata": {},
     "output_type": "execute_result"
    }
   ],
   "execution_count": 7
  },
  {
   "metadata": {
    "ExecuteTime": {
     "end_time": "2024-06-24T16:09:24.044126Z",
     "start_time": "2024-06-24T16:09:24.039574Z"
    }
   },
   "cell_type": "code",
   "source": "people.pl[1].name",
   "id": "43c68b3b39cc3fc1",
   "outputs": [
    {
     "data": {
      "text/plain": [
       "'vasya'"
      ]
     },
     "execution_count": 8,
     "metadata": {},
     "output_type": "execute_result"
    }
   ],
   "execution_count": 8
  },
  {
   "metadata": {},
   "cell_type": "markdown",
   "source": [
    "Сериализуем обычную модель и создадим из нее малую, с меньшим количеством полей. `**normal_dict` содержит age, которого нет в модели Small. Тем не менее все прекрасно создается.\n",
    "Можно не бояться, что при создании модели в словаре или в json будут присутствовать избыточные ключи со значениями."
   ],
   "id": "f652d1731d846e64"
  },
  {
   "metadata": {
    "ExecuteTime": {
     "end_time": "2024-06-24T16:18:23.570580Z",
     "start_time": "2024-06-24T16:18:23.565763Z"
    }
   },
   "cell_type": "code",
   "source": [
    "normal_dict = vasya.model_dump()\n",
    "small = Small(**normal_dict)\n",
    "small"
   ],
   "id": "a292fadc7029ab8b",
   "outputs": [
    {
     "data": {
      "text/plain": [
       "Small(name='vasya')"
      ]
     },
     "execution_count": 16,
     "metadata": {},
     "output_type": "execute_result"
    }
   ],
   "execution_count": 16
  },
  {
   "metadata": {},
   "cell_type": "code",
   "outputs": [],
   "execution_count": null,
   "source": "",
   "id": "5bd31808e0d3fe38"
  }
 ],
 "metadata": {
  "kernelspec": {
   "display_name": "Python 3",
   "language": "python",
   "name": "python3"
  },
  "language_info": {
   "codemirror_mode": {
    "name": "ipython",
    "version": 2
   },
   "file_extension": ".py",
   "mimetype": "text/x-python",
   "name": "python",
   "nbconvert_exporter": "python",
   "pygments_lexer": "ipython2",
   "version": "2.7.6"
  }
 },
 "nbformat": 4,
 "nbformat_minor": 5
}
