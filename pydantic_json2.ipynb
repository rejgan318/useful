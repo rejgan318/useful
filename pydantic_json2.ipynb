{
 "cells": [
  {
   "metadata": {},
   "cell_type": "markdown",
   "source": "",
   "id": "3971d73b7d6f0607"
  },
  {
   "metadata": {
    "ExecuteTime": {
     "end_time": "2024-06-22T09:25:08.277802Z",
     "start_time": "2024-06-22T09:25:08.274449Z"
    }
   },
   "cell_type": "code",
   "source": [
    "from pydantic import BaseModel\n",
    "import json"
   ],
   "id": "2a7310a932103f4c",
   "outputs": [],
   "execution_count": 26
  },
  {
   "metadata": {
    "ExecuteTime": {
     "end_time": "2024-06-22T11:25:54.314634Z",
     "start_time": "2024-06-22T11:25:54.307709Z"
    }
   },
   "cell_type": "code",
   "source": [
    "class Person(BaseModel):\n",
    "    name: str\n",
    "    age: int\n",
    "    \n",
    "class People(BaseModel):\n",
    "    pl: dict[int, Person]"
   ],
   "id": "8a638a32d457149f",
   "outputs": [],
   "execution_count": 47
  },
  {
   "metadata": {
    "ExecuteTime": {
     "end_time": "2024-06-22T11:25:54.925152Z",
     "start_time": "2024-06-22T11:25:54.919303Z"
    }
   },
   "cell_type": "code",
   "source": [
    "vasya = Person(name='vasya', age=18)\n",
    "petya = Person(name='petya', age=16)\n",
    "pac = {1: vasya, 2: petya}\n",
    "pac"
   ],
   "id": "6301c56364060db8",
   "outputs": [
    {
     "data": {
      "text/plain": [
       "{1: Person(name='vasya', age=18), 2: Person(name='petya', age=16)}"
      ]
     },
     "execution_count": 48,
     "metadata": {},
     "output_type": "execute_result"
    }
   ],
   "execution_count": 48
  },
  {
   "metadata": {
    "ExecuteTime": {
     "end_time": "2024-06-22T11:25:56.525092Z",
     "start_time": "2024-06-22T11:25:56.518722Z"
    }
   },
   "cell_type": "code",
   "source": [
    "with open(\"pac1.json\", \"w\", encoding='utf-8') as f:\n",
    "    json.dump({k: p.dict() for k, p in pac.items()}, f, indent=4)"
   ],
   "id": "5954f591945a8c17",
   "outputs": [],
   "execution_count": 49
  },
  {
   "metadata": {
    "ExecuteTime": {
     "end_time": "2024-06-22T11:25:58.303021Z",
     "start_time": "2024-06-22T11:25:58.297238Z"
    }
   },
   "cell_type": "code",
   "source": [
    "with open(\"pac1.json\", \"r\", encoding='utf-8') as f:\n",
    "    pac = json.load(f)\n",
    "    pac = {int(k): Person(**p) for k, p in pac.items()}\n",
    "pac"
   ],
   "id": "7e354865cde429ea",
   "outputs": [
    {
     "data": {
      "text/plain": [
       "{1: Person(name='vasya', age=18), 2: Person(name='petya', age=16)}"
      ]
     },
     "execution_count": 50,
     "metadata": {},
     "output_type": "execute_result"
    }
   ],
   "execution_count": 50
  },
  {
   "metadata": {
    "ExecuteTime": {
     "end_time": "2024-06-22T11:26:16.735166Z",
     "start_time": "2024-06-22T11:26:16.730413Z"
    }
   },
   "cell_type": "code",
   "source": [
    "people = People(pl=pac)\n",
    "with open(\"pac2.json\", \"w\", encoding='utf-8') as f:\n",
    "    # json.dump({k: p.dict() for k, p in d.items()}, f)\n",
    "    f.write(people.model_dump_json(indent=2))"
   ],
   "id": "fe4307c7a2bc63b2",
   "outputs": [],
   "execution_count": 51
  },
  {
   "metadata": {
    "ExecuteTime": {
     "end_time": "2024-06-22T11:28:49.295534Z",
     "start_time": "2024-06-22T11:28:49.284539Z"
    }
   },
   "cell_type": "code",
   "source": [
    "with open(\"pac2.json\", \"r\", encoding='utf-8') as f:\n",
    "    people = People.model_validate_json(f.read())\n",
    "people"
   ],
   "id": "9528dd3b6d5522d5",
   "outputs": [
    {
     "data": {
      "text/plain": [
       "People(pl={1: Person(name='vasya', age=18), 2: Person(name='petya', age=16)})"
      ]
     },
     "execution_count": 54,
     "metadata": {},
     "output_type": "execute_result"
    }
   ],
   "execution_count": 54
  },
  {
   "metadata": {
    "ExecuteTime": {
     "end_time": "2024-06-22T11:26:46.205034Z",
     "start_time": "2024-06-22T11:26:46.199050Z"
    }
   },
   "cell_type": "code",
   "source": "people.pl[1].name",
   "id": "43c68b3b39cc3fc1",
   "outputs": [
    {
     "data": {
      "text/plain": [
       "'vasya'"
      ]
     },
     "execution_count": 53,
     "metadata": {},
     "output_type": "execute_result"
    }
   ],
   "execution_count": 53
  },
  {
   "metadata": {},
   "cell_type": "code",
   "outputs": [],
   "execution_count": null,
   "source": "",
   "id": "a292fadc7029ab8b"
  }
 ],
 "metadata": {
  "kernelspec": {
   "display_name": "Python 3",
   "language": "python",
   "name": "python3"
  },
  "language_info": {
   "codemirror_mode": {
    "name": "ipython",
    "version": 2
   },
   "file_extension": ".py",
   "mimetype": "text/x-python",
   "name": "python",
   "nbconvert_exporter": "python",
   "pygments_lexer": "ipython2",
   "version": "2.7.6"
  }
 },
 "nbformat": 4,
 "nbformat_minor": 5
}
